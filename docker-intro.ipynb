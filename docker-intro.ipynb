{
 "cells": [
  {
   "cell_type": "markdown",
   "metadata": {
    "slideshow": {
     "slide_type": "slide"
    }
   },
   "source": [
    "# Introduction to Containers\n",
    "\n",
    "**James Meakin - Wednesday 23 Jan, DIAG UoK Workshop**\n",
    "\n",
    "<img src=\"docker.png\" width=\"150\"/>\n"
   ]
  },
  {
   "cell_type": "markdown",
   "metadata": {
    "slideshow": {
     "slide_type": "slide"
    }
   },
   "source": [
    "## Overview\n",
    "\n",
    "- Motivation\n",
    "- What are containers?\n",
    "- Why containers?\n",
    "- What is docker?\n",
    "- How do I create a container?"
   ]
  },
  {
   "cell_type": "markdown",
   "metadata": {
    "slideshow": {
     "slide_type": "slide"
    }
   },
   "source": [
    "## Motivation\n",
    "\n",
    "We want to run processes:\n",
    " - a process to train your model\n",
    " - a process to apply that model to new cases. \n",
    "\n",
    "To do this the process needs to be packaged with all its dependencies:\n",
    " - data (image data, model weights)\n",
    " - runtime environment (linux, windows)\n",
    " - external libraries (python, CUDA, ...)"
   ]
  },
  {
   "cell_type": "markdown",
   "metadata": {
    "slideshow": {
     "slide_type": "subslide"
    }
   },
   "source": [
    "## How would we bundle a process and its dependencies?\n",
    "\n",
    "- Install an OS into a Virtual Machine Image (eg, Virtualbox)\n",
    "- Add all the executables and dependencies (by hand?)\n",
    "- Shutdown the machine, package, upload somewhere, document on a wiki"
   ]
  },
  {
   "cell_type": "markdown",
   "metadata": {
    "slideshow": {
     "slide_type": "subslide"
    }
   },
   "source": [
    "## Virtual Machines\n",
    "\n",
    "<img src=\"VM@2x.png\" width=\"300\">\n",
    "\n",
    "VMs abstract hardware, allowing many systems to run on the same physical infrastructure. \n",
    "\n",
    "Problems:\n",
    " - Size\n",
    " - Speed\n",
    " - Hypervisor Compatibility\n"
   ]
  },
  {
   "cell_type": "markdown",
   "metadata": {
    "slideshow": {
     "slide_type": "slide"
    }
   },
   "source": [
    "## What are containers?\n",
    "\n",
    "<img src=\"Container@2x.png\" width=\"300\">\n",
    "\n",
    "> Containers are a way of packaging a process\n",
    ">  - self-contained\n",
    ">  - portable\n",
    ">  - lightweight"
   ]
  },
  {
   "cell_type": "markdown",
   "metadata": {
    "slideshow": {
     "slide_type": "subslide"
    }
   },
   "source": [
    "## How do containers compare to VMs?\n",
    "\n",
    "<div>\n",
    "<img src=\"VM@2x.png\" width=\"300\" style=\"float:left\"><img src=\"Container@2x.png\" width=\"300\" style=\"float:right\">\n",
    "</div>\n",
    "\n",
    "<div style=\"float:left\">\n",
    "Containers abstract away the application level, virtual machines abstract the hardware.\n",
    "\n",
    "<ul>\n",
    "    <li> share the same kernel (start instantly, use less memory) </li>\n",
    "    <li> don't need to include an entire os </li>\n",
    "    <li> are now a standard </li>\n",
    "</ul>\n",
    "</div>\n"
   ]
  },
  {
   "cell_type": "markdown",
   "metadata": {
    "slideshow": {
     "slide_type": "subslide"
    }
   },
   "source": [
    "## Containers are not a primative\n",
    "\n",
    "Low level:\n",
    "\n",
    "> A combination of two linux kernel primitives:\n",
    ">  - `namespaces`: controls what the process can **see** (pid, mount, network, ipc, user, ...)\n",
    ">  - `cgroups`: controls what a process can **use** (memory, cpu, blkio, cpuset, devices, ...)"
   ]
  },
  {
   "cell_type": "markdown",
   "metadata": {
    "slideshow": {
     "slide_type": "slide"
    }
   },
   "source": [
    "## Why Containers?\n",
    "\n",
    "Containers help us solve 3 problems:\n",
    "- Encapsulation\n",
    "- Dependency Management\n",
    "- Immutability"
   ]
  },
  {
   "cell_type": "code",
   "execution_count": null,
   "metadata": {
    "slideshow": {
     "slide_type": "slide"
    }
   },
   "outputs": [],
   "source": []
  }
 ],
 "metadata": {
  "celltoolbar": "Slideshow",
  "kernelspec": {
   "display_name": "Python 3",
   "language": "python",
   "name": "python3"
  },
  "language_info": {
   "codemirror_mode": {
    "name": "ipython",
    "version": 3
   },
   "file_extension": ".py",
   "mimetype": "text/x-python",
   "name": "python",
   "nbconvert_exporter": "python",
   "pygments_lexer": "ipython3",
   "version": "3.6.3"
  }
 },
 "nbformat": 4,
 "nbformat_minor": 2
}
