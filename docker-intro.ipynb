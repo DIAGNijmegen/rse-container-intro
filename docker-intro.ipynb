{
 "cells": [
  {
   "cell_type": "markdown",
   "metadata": {
    "slideshow": {
     "slide_type": "slide"
    }
   },
   "source": [
    "# Introduction to Containers, or, _Units of Software_\n",
    "\n",
    "https://www.docker.com/what-container\n",
    "\n",
    "**James Meakin - Wednesday 23 Jan, DIAG UoK Workshop**\n",
    "\n",
    "<img src=\"docker.png\" width=\"150\"/>\n",
    "\n"
   ]
  },
  {
   "cell_type": "markdown",
   "metadata": {
    "slideshow": {
     "slide_type": "slide"
    }
   },
   "source": [
    "<p><a href=\"https://commons.wikimedia.org/wiki/File:Line3174_-_Shipping_Containers_at_the_terminal_at_Port_Elizabeth,_New_Jersey_-_NOAA.jpg#/media/File:Line3174_-_Shipping_Containers_at_the_terminal_at_Port_Elizabeth,_New_Jersey_-_NOAA.jpg\"><img src=\"https://upload.wikimedia.org/wikipedia/commons/7/7a/Line3174_-_Shipping_Containers_at_the_terminal_at_Port_Elizabeth%2C_New_Jersey_-_NOAA.jpg\" alt=\"Line3174 - Shipping Containers at the terminal at Port Elizabeth, New Jersey - NOAA.jpg\" height=\"427\" width=\"640\"></a><br>By Captain Albert E. Theberge, NOAA Corps (ret.) - <a rel=\"nofollow\" class=\"external free\" href=\"http://www.photolib.noaa.gov/coastline/line3174.htm\">http://www.photolib.noaa.gov/coastline/line3174.htm</a>, Public Domain, <a href=\"https://commons.wikimedia.org/w/index.php?curid=69709\">Link</a></p>"
   ]
  },
  {
   "cell_type": "markdown",
   "metadata": {
    "slideshow": {
     "slide_type": "subslide"
    }
   },
   "source": [
    "<p><a href=\"https://commons.wikimedia.org/wiki/File:ZIM_New_York_(ship,_2002)_002.jpg#/media/File:ZIM_New_York_(ship,_2002)_002.jpg\"><img src=\"https://upload.wikimedia.org/wikipedia/commons/2/23/ZIM_New_York_%28ship%2C_2002%29_002.jpg\" alt=\"ZIM New York (ship, 2002) 002.jpg\" height=\"431\" width=\"640\"></a><br>By <a rel=\"nofollow\" class=\"external text\" href=\"https://www.flickr.com/people/61993185@N00\">Patrick Denker</a> from Athens, GA - <a rel=\"nofollow\" class=\"external text\" href=\"https://www.flickr.com/photos/pdenker/6998948883/\">DSC04878</a>, <a href=\"http://creativecommons.org/licenses/by/2.0\" title=\"Creative Commons Attribution 2.0\">CC BY 2.0</a>, <a href=\"https://commons.wikimedia.org/w/index.php?curid=37301184\">Link</a></p>"
   ]
  },
  {
   "cell_type": "markdown",
   "metadata": {
    "slideshow": {
     "slide_type": "subslide"
    }
   },
   "source": [
    "<p><a href=\"https://commons.wikimedia.org/wiki/File:BNSF_5216_West_Kingman_Canyon_AZ_(293094839).jpg#/media/File:BNSF_5216_West_Kingman_Canyon_AZ_(293094839).jpg\"><img src=\"https://upload.wikimedia.org/wikipedia/commons/5/5a/BNSF_5216_West_Kingman_Canyon_AZ_%28293094839%29.jpg\" alt=\"BNSF 5216 West Kingman Canyon AZ (293094839).jpg\" height=\"426\" width=\"640\"></a><br>By <a rel=\"nofollow\" class=\"external text\" href=\"https://www.flickr.com/people/40563877@N00\">BriYYZ</a> from Toronto, Canada - <a rel=\"nofollow\" class=\"external text\" href=\"https://www.flickr.com/photos/bribri/293094839/\">BNSF 5216 West Kingman Canyon AZ</a>, <a href=\"https://creativecommons.org/licenses/by-sa/2.0\" title=\"Creative Commons Attribution-Share Alike 2.0\">CC BY-SA 2.0</a>, <a href=\"https://commons.wikimedia.org/w/index.php?curid=25908599\">Link</a></p>"
   ]
  },
  {
   "cell_type": "markdown",
   "metadata": {
    "slideshow": {
     "slide_type": "subslide"
    }
   },
   "source": [
    "<p><a href=\"https://commons.wikimedia.org/wiki/File:Flat-rack-small-vessel.jpeg#/media/File:Flat-rack-small-vessel.jpeg\"><img src=\"https://upload.wikimedia.org/wikipedia/commons/5/55/Flat-rack-small-vessel.jpeg\" alt=\"Flat-rack-small-vessel.jpeg\" height=\"480\" width=\"640\"></a><br>By Marc Cromme, Denmark\n",
    "Uploaded by <a href=\"https://en.wikipedia.org/wiki/User:Chlor\" class=\"extiw\" title=\"en:User:Chlor\">Chlor</a> at en.wikipedia - File handed over from Marc Cromme to <a href=\"https://en.wikipedia.org/wiki/User:Chlor\" class=\"extiw\" title=\"en:User:Chlor\">User:Chlor</a> (Hans Schou)\n",
    "Transferred from <a class=\"external text\" href=\"http://en.wikipedia.org\">en.wikipedia</a> by <a href=\"//commons.wikimedia.org/wiki/User:SreeBot\" title=\"User:SreeBot\">SreeBot</a>, <a href=\"https://creativecommons.org/licenses/by-sa/3.0\" title=\"Creative Commons Attribution-Share Alike 3.0\">CC BY-SA 3.0</a>, <a href=\"https://commons.wikimedia.org/w/index.php?curid=17382578\">Link</a></p>"
   ]
  },
  {
   "cell_type": "markdown",
   "metadata": {
    "slideshow": {
     "slide_type": "subslide"
    }
   },
   "source": [
    "## What about containers for software?\n",
    "\n",
    "How do we run your deep learning model on:\n",
    "- a laptop,\n",
    "- the DL Cluster,\n",
    "- or in the cloud,\n",
    "\n",
    "all without affecting stuff that is running already?"
   ]
  },
  {
   "cell_type": "markdown",
   "metadata": {
    "slideshow": {
     "slide_type": "slide"
    }
   },
   "source": [
    "## What do I need to put into a conatiner?\n",
    "\n",
    "We want to run processes:\n",
    " - a process to train your model\n",
    " - a process to apply that model to new cases. \n",
    "\n",
    "To do this the process needs to be packaged with all its dependencies:\n",
    " - data (image data, model weights)\n",
    " - runtime environment (linux, windows)\n",
    " - external libraries (python, CUDA, ...)"
   ]
  },
  {
   "cell_type": "markdown",
   "metadata": {
    "slideshow": {
     "slide_type": "subslide"
    }
   },
   "source": [
    "## How would we bundle a process and its dependencies?\n",
    "\n",
    "- Install an OS into a Virtual Machine Image (eg, Virtualbox)\n",
    "- Add all the executables and dependencies (by hand?)\n",
    "- Shutdown the machine, package, upload somewhere, document on a wiki"
   ]
  },
  {
   "cell_type": "markdown",
   "metadata": {
    "slideshow": {
     "slide_type": "subslide"
    }
   },
   "source": [
    "## Virtual Machines\n",
    "\n",
    "<img src=\"VM@2x.png\" width=\"300\">\n",
    "\n",
    "VMs abstract hardware, allowing many systems to run on the same physical infrastructure. \n",
    "\n",
    "Problems:\n",
    " - Size\n",
    " - Speed\n",
    " - Hypervisor Compatibility\n"
   ]
  },
  {
   "cell_type": "markdown",
   "metadata": {
    "slideshow": {
     "slide_type": "slide"
    }
   },
   "source": [
    "## What are containers?\n",
    "\n",
    "<img src=\"Container@2x.png\" width=\"300\">\n",
    "\n",
    "> Containers are a way of packaging a process\n",
    ">  - self-contained\n",
    ">  - portable\n",
    ">  - lightweight"
   ]
  },
  {
   "cell_type": "markdown",
   "metadata": {
    "slideshow": {
     "slide_type": "subslide"
    }
   },
   "source": [
    "## How do containers compare to VMs?\n",
    "\n",
    "<div>\n",
    "<img src=\"VM@2x.png\" width=\"300\" style=\"float:left\"><img src=\"Container@2x.png\" width=\"300\" style=\"float:right\">\n",
    "</div>\n",
    "\n",
    "<div style=\"float:left\">\n",
    "Containers abstract away the application level, virtual machines abstract the hardware.\n",
    "\n",
    "<ul>\n",
    "    <li> share the same kernel (start instantly, use less memory) </li>\n",
    "    <li> don't need to include an entire os </li>\n",
    "    <li> are now a standard </li>\n",
    "</ul>\n",
    "</div>\n"
   ]
  },
  {
   "cell_type": "markdown",
   "metadata": {
    "slideshow": {
     "slide_type": "subslide"
    }
   },
   "source": [
    "## Containers are not a primative\n",
    "\n",
    "Low level:\n",
    "\n",
    "> A combination of two linux kernel primitives:\n",
    ">  - `namespaces`: controls what the process can **see** (pid, mount, network, ipc, user, ...)\n",
    ">  - `cgroups`: controls what a process can **use** (memory, cpu, blkio, cpuset, devices, ...)"
   ]
  },
  {
   "cell_type": "markdown",
   "metadata": {
    "slideshow": {
     "slide_type": "slide"
    }
   },
   "source": [
    "## Why Containers?\n",
    "\n",
    "Containers help us solve 3 problems:\n",
    "- Encapsulation\n",
    "  - All necessary files, isolation\n",
    "- Dependency Management\n",
    "  - All necessary libraries\n",
    "- Immutability\n",
    "  - We can easily keep many different versions of container images\n",
    "  - Changes that you make on top on the image do not persist!"
   ]
  },
  {
   "cell_type": "markdown",
   "metadata": {
    "slideshow": {
     "slide_type": "slide"
    }
   },
   "source": [
    "## What is Docker?\n",
    "\n",
    "Docker is a **containerization platform**. It provides:\n",
    "- a format for building and packaging containers: `container image`\n",
    "- a place to download, upload and persist container images: `docker registry`\n",
    "- tools for running containers on individual hosts\n"
   ]
  },
  {
   "cell_type": "markdown",
   "metadata": {
    "slideshow": {
     "slide_type": "subslide"
    }
   },
   "source": [
    "## Container Registry\n",
    "\n",
    "[Demo](https://hub.docker.com)\n",
    "\n",
    "Use the container registry to `pull` and `push` container images to/from your local machine."
   ]
  },
  {
   "cell_type": "markdown",
   "metadata": {
    "slideshow": {
     "slide_type": "subslide"
    }
   },
   "source": [
    "## Running images\n",
    "\n",
    "Use `docker run` to start images. Useful extras:\n",
    "- `-p`: expose a port\n",
    "- `-i`: interative mode\n",
    "- `-t`: allocate a pseudo-TTY\n",
    "- `-d`: detach - run in the background\n",
    "- `-e`: environment variable\n",
    "\n",
    "Note that any changes won't be saved!\n",
    "- `-v`: attach a volume\n",
    "\n",
    "Useful commands:\n",
    "- `docker image list`\n",
    "- `docker volume list`\n",
    "- `docker ps`\n",
    "- `docker stats`\n",
    "- `docker stop`\n",
    "- `docker system prune`\n"
   ]
  },
  {
   "cell_type": "markdown",
   "metadata": {
    "slideshow": {
     "slide_type": "subslide"
    }
   },
   "source": [
    "## Container Images\n",
    "\n",
    "Use a `dockerfile` to create container images.\n",
    "\n",
    "Choose the `FROM` image carefully: ubuntu is 188MB, debian 125MB, alpine 5MB. Try `python:3.6-slim` or `python:3.6-alpine`.\n",
    "\n",
    "Build them with `docker build`.\n",
    "- Remember the layering, don't ever include secrets.\n",
    "\n"
   ]
  },
  {
   "cell_type": "markdown",
   "metadata": {
    "slideshow": {
     "slide_type": "slide"
    }
   },
   "source": [
    "## Installation\n",
    "\n",
    "Follow the instructions carefully.\n",
    "\n",
    "On windows, the docker runtime will run inside a VM that is running the linux kernel. \n",
    "\n",
    "For CUDA/cuDNN and using your : you'll also need `nvidia-docker`. This is included on the deep learning machines. \n",
    "- Portability: you can build container images on your laptop and run them on the cluster."
   ]
  },
  {
   "cell_type": "markdown",
   "metadata": {
    "slideshow": {
     "slide_type": "slide"
    }
   },
   "source": [
    "## Conclusion\n",
    "\n",
    "A `container` is a _Unit of Software_\n",
    "\n",
    "They're like Virtual Machines, but different in that they share the Operating System kernel, and do not persist data (immutable).\n",
    "\n",
    "A `docker container` is a container that is built to use the `docker platform`.\n"
   ]
  }
 ],
 "metadata": {
  "celltoolbar": "Slideshow",
  "kernelspec": {
   "display_name": "Python 3",
   "language": "python",
   "name": "python3"
  },
  "language_info": {
   "codemirror_mode": {
    "name": "ipython",
    "version": 3
   },
   "file_extension": ".py",
   "mimetype": "text/x-python",
   "name": "python",
   "nbconvert_exporter": "python",
   "pygments_lexer": "ipython3",
   "version": "3.6.3"
  }
 },
 "nbformat": 4,
 "nbformat_minor": 2
}
