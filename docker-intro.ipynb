{
 "cells": [
  {
   "cell_type": "markdown",
   "metadata": {
    "slideshow": {
     "slide_type": "slide"
    }
   },
   "source": [
    "# Introduction to Containers: units of software?\n",
    "\n",
    "**James Meakin - Wednesday 23 Jan, DIAG UoK Workshop**\n",
    "\n",
    "<img src=\"docker.png\" width=\"150\"/>\n"
   ]
  },
  {
   "cell_type": "markdown",
   "metadata": {
    "slideshow": {
     "slide_type": "slide"
    }
   },
   "source": [
    "## Overview\n",
    "\n",
    "- Motivation\n",
    "- What are containers?\n",
    "- Why containers?\n",
    "- What is docker?\n",
    "- How do I create a container?"
   ]
  },
  {
   "cell_type": "markdown",
   "metadata": {
    "slideshow": {
     "slide_type": "slide"
    }
   },
   "source": [
    "## Motivation\n",
    "\n",
    "We want to run processes:\n",
    " - a process to train your model\n",
    " - a process to apply that model to new cases. \n",
    "\n",
    "To do this the process needs to be packaged with all its dependencies:\n",
    " - data (image data, model weights)\n",
    " - runtime environment (linux, windows)\n",
    " - external libraries (python, CUDA, ...)"
   ]
  },
  {
   "cell_type": "markdown",
   "metadata": {
    "slideshow": {
     "slide_type": "subslide"
    }
   },
   "source": [
    "## How would we bundle a process and its dependencies?\n",
    "\n",
    "- Install an OS into a Virtual Machine Image (eg, Virtualbox)\n",
    "- Add all the executables and dependencies (by hand?)\n",
    "- Shutdown the machine, package, upload somewhere, document on a wiki"
   ]
  },
  {
   "cell_type": "markdown",
   "metadata": {
    "slideshow": {
     "slide_type": "subslide"
    }
   },
   "source": [
    "## Virtual Machines\n",
    "\n",
    "<img src=\"VM@2x.png\" width=\"300\">\n",
    "\n",
    "VMs abstract hardware, allowing many systems to run on the same physical infrastructure. \n",
    "\n",
    "Problems:\n",
    " - Size\n",
    " - Speed\n",
    " - Hypervisor Compatibility\n"
   ]
  },
  {
   "cell_type": "markdown",
   "metadata": {
    "slideshow": {
     "slide_type": "slide"
    }
   },
   "source": [
    "## What are containers?\n",
    "\n",
    "<img src=\"Container@2x.png\" width=\"300\">\n",
    "\n",
    "> Containers are a way of packaging a process\n",
    ">  - self-contained\n",
    ">  - portable\n",
    ">  - lightweight"
   ]
  },
  {
   "cell_type": "markdown",
   "metadata": {
    "slideshow": {
     "slide_type": "subslide"
    }
   },
   "source": [
    "## How do containers compare to VMs?\n",
    "\n",
    "<div>\n",
    "<img src=\"VM@2x.png\" width=\"300\" style=\"float:left\"><img src=\"Container@2x.png\" width=\"300\" style=\"float:right\">\n",
    "</div>\n",
    "\n",
    "<div style=\"float:left\">\n",
    "Containers abstract away the application level, virtual machines abstract the hardware.\n",
    "\n",
    "<ul>\n",
    "    <li> share the same kernel (start instantly, use less memory) </li>\n",
    "    <li> don't need to include an entire os </li>\n",
    "    <li> are now a standard </li>\n",
    "</ul>\n",
    "</div>\n"
   ]
  },
  {
   "cell_type": "markdown",
   "metadata": {
    "slideshow": {
     "slide_type": "subslide"
    }
   },
   "source": [
    "## Containers are not a primative\n",
    "\n",
    "Low level:\n",
    "\n",
    "> A combination of two linux kernel primitives:\n",
    ">  - `namespaces`: controls what the process can **see** (pid, mount, network, ipc, user, ...)\n",
    ">  - `cgroups`: controls what a process can **use** (memory, cpu, blkio, cpuset, devices, ...)"
   ]
  },
  {
   "cell_type": "markdown",
   "metadata": {
    "slideshow": {
     "slide_type": "slide"
    }
   },
   "source": [
    "## Why Containers?\n",
    "\n",
    "Containers help us solve 3 problems:\n",
    "- Encapsulation\n",
    "  - All necessary files, isolation\n",
    "- Dependency Management\n",
    "  - All necessary libraries\n",
    "- Immutability\n",
    "  - We can easily keep many different versions of container images\n",
    "  - Changes that you make on top on the image do not persist!"
   ]
  },
  {
   "cell_type": "markdown",
   "metadata": {
    "slideshow": {
     "slide_type": "slide"
    }
   },
   "source": [
    "## What is Docker?\n",
    "\n",
    "Docker is a **containerization platform**. It provides:\n",
    "- a format for building and packaging containers: `container image`\n",
    "- a place to download, upload and persist container images: `docker registry`\n",
    "- tools for running containers on individual hosts\n"
   ]
  },
  {
   "cell_type": "markdown",
   "metadata": {
    "slideshow": {
     "slide_type": "subslide"
    }
   },
   "source": [
    "## Container Registry\n",
    "\n",
    "[Demo](https://hub.docker.com)\n",
    "\n",
    "Use the container registry to `pull` and `push` container images to/from your local machine."
   ]
  },
  {
   "cell_type": "markdown",
   "metadata": {
    "slideshow": {
     "slide_type": "subslide"
    }
   },
   "source": [
    "## Running images\n",
    "\n",
    "Use `docker run` to start images. Useful extras:\n",
    "- `-p`: expose a port\n",
    "- `-i`: interative mode\n",
    "- `-t`: allocate a pseudo-TTY\n",
    "- `-d`: detach - run in the background\n",
    "- `-e`: environment variable\n",
    "\n",
    "Note that any changes won't be saved!\n",
    "- `-v`: attach a volume\n",
    "\n",
    "Useful commands:\n",
    "- `docker image list`\n",
    "- `docker volume list`\n",
    "- `docker ps`\n",
    "- `docker stats`\n",
    "- `docker stop`\n",
    "- `docker system prune`\n"
   ]
  },
  {
   "cell_type": "markdown",
   "metadata": {
    "slideshow": {
     "slide_type": "subslide"
    }
   },
   "source": [
    "## Container Images\n",
    "\n",
    "Use a `dockerfile` to create container images.\n",
    "\n",
    "Choose the `FROM` image carefully: ubuntu is 188MB, debian 125MB, alpine 5MB. Try `python:3.6-slim` or `python:3.6-alpine`.\n",
    "\n",
    "Build them with docker build.\n",
    "- Remember the layering, don't ever include secrets.\n",
    "\n"
   ]
  },
  {
   "cell_type": "code",
   "execution_count": null,
   "metadata": {},
   "outputs": [],
   "source": []
  }
 ],
 "metadata": {
  "celltoolbar": "Slideshow",
  "kernelspec": {
   "display_name": "Python 3",
   "language": "python",
   "name": "python3"
  },
  "language_info": {
   "codemirror_mode": {
    "name": "ipython",
    "version": 3
   },
   "file_extension": ".py",
   "mimetype": "text/x-python",
   "name": "python",
   "nbconvert_exporter": "python",
   "pygments_lexer": "ipython3",
   "version": "3.6.3"
  }
 },
 "nbformat": 4,
 "nbformat_minor": 2
}
